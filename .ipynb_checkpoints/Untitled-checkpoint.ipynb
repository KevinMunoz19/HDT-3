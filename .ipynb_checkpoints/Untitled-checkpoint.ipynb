{
 "cells": [
  {
   "cell_type": "code",
   "execution_count": 4,
   "id": "driven-henry",
   "metadata": {},
   "outputs": [],
   "source": [
    "import numpy as np"
   ]
  },
  {
   "cell_type": "code",
   "execution_count": 5,
   "id": "headed-organ",
   "metadata": {},
   "outputs": [],
   "source": [
    "import csv"
   ]
  },
  {
   "cell_type": "code",
   "execution_count": 52,
   "id": "proof-slovak",
   "metadata": {},
   "outputs": [],
   "source": [
    "class my_regression():\n",
    "    def __init__(self,x,y,b0,b1):\n",
    "        self.x = x\n",
    "        self.y = y\n",
    "        self.beta0 = b0\n",
    "        self.beta1 = b1\n",
    "    def getAllParams(cls):\n",
    "        print(\"x\")\n",
    "        cls.hi2()\n",
    "    def predict(self):\n",
    "        aa = self.beta0\n",
    "        print(aa)\n",
    "    @classmethod \n",
    "    def beta_zero(self,x,y):\n",
    "        n=len(x)\n",
    "        product = [a*b for a,b in zip(x,y)]\n",
    "        product_sum=sum(product)\n",
    "        t1 = n*product_sum\n",
    "        x_sum=sum(x)\n",
    "        y_sum=sum(y)\n",
    "        t2 = x_sum * y_sum\n",
    "        x_squared = [a**2 for a in x]\n",
    "        x_squared_sum = sum(x_squared)\n",
    "        t3 = n*x_squared_sum\n",
    "        t4 = x_sum ** 2\n",
    "        beta_0 = (t1-t2)/(t3-t4)\n",
    "        return beta_0\n",
    "    @classmethod \n",
    "    def beta_one(self,x,y):\n",
    "        n=len(x)\n",
    "        product = [a*b for a,b in zip(x,y)]\n",
    "        product_sum=sum(product)\n",
    "        x_sum=sum(x)\n",
    "        y_sum=sum(y)\n",
    "        x_squared = [a**2 for a in x]\n",
    "        x_squared_sum = sum(x_squared)\n",
    "        t1 = n * x_squared_sum * y_sum\n",
    "        t2 = x_sum * product_sum\n",
    "        t3 = n * x_squared_sum\n",
    "        t4 = x_sum ** 2\n",
    "        beta_1 = (t1-t2)/(t3-t4)\n",
    "        return beta_1\n",
    "    @classmethod\n",
    "    def from_file(cls, filename):\n",
    "        with open(filename) as csv_file:\n",
    "            csv_reader = csv.reader(csv_file, delimiter=',')\n",
    "            line_count = 0\n",
    "            x=[]\n",
    "            y=[]\n",
    "            beta_0 = 0\n",
    "            beta_1 = 0\n",
    "            for row in csv_reader:\n",
    "                if line_count == 0:\n",
    "                    print(f'Column names are {\", \".join(row)}')\n",
    "                    line_count += 1\n",
    "                else:\n",
    "                    line_count += 1\n",
    "                    valx=row[1]\n",
    "                    valy=row[0]\n",
    "                    x.append(float(valx))\n",
    "                    y.append(float(valy))\n",
    "            print(f'Processed {line_count} lines.')\n",
    "            beta_0 = cls.beta_zero(x,y)\n",
    "            beta_1 = cls.beta_one(x,y)\n",
    "        return cls(x,y,beta_0,beta_1)\n",
    "    "
   ]
  },
  {
   "cell_type": "code",
   "execution_count": 53,
   "id": "intensive-bowling",
   "metadata": {},
   "outputs": [
    {
     "name": "stdout",
     "output_type": "stream",
     "text": [
      "Column names are Y, X\n",
      "Processed 201 lines.\n"
     ]
    }
   ],
   "source": [
    "kev = my_regression.from_file('Advertising.csv')"
   ]
  },
  {
   "cell_type": "code",
   "execution_count": 54,
   "id": "greatest-pressing",
   "metadata": {},
   "outputs": [
    {
     "data": {
      "text/plain": [
       "0.04753664043301965"
      ]
     },
     "execution_count": 54,
     "metadata": {},
     "output_type": "execute_result"
    }
   ],
   "source": [
    "kev.beta0\n"
   ]
  },
  {
   "cell_type": "code",
   "execution_count": 55,
   "id": "moving-indicator",
   "metadata": {},
   "outputs": [
    {
     "data": {
      "text/plain": [
       "11024.060086642463"
      ]
     },
     "execution_count": 55,
     "metadata": {},
     "output_type": "execute_result"
    }
   ],
   "source": [
    "kev.beta1"
   ]
  },
  {
   "cell_type": "code",
   "execution_count": 57,
   "id": "hourly-elements",
   "metadata": {},
   "outputs": [
    {
     "name": "stdout",
     "output_type": "stream",
     "text": [
      "x\n",
      "y\n"
     ]
    }
   ],
   "source": [
    "kev.getAllParams()"
   ]
  },
  {
   "cell_type": "code",
   "execution_count": null,
   "id": "funny-sterling",
   "metadata": {},
   "outputs": [],
   "source": []
  }
 ],
 "metadata": {
  "kernelspec": {
   "display_name": "Python 3",
   "language": "python",
   "name": "python3"
  },
  "language_info": {
   "codemirror_mode": {
    "name": "ipython",
    "version": 3
   },
   "file_extension": ".py",
   "mimetype": "text/x-python",
   "name": "python",
   "nbconvert_exporter": "python",
   "pygments_lexer": "ipython3",
   "version": "3.9.1"
  }
 },
 "nbformat": 4,
 "nbformat_minor": 5
}
