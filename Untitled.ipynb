{
 "cells": [
  {
   "cell_type": "code",
   "execution_count": 3,
   "id": "powered-relevance",
   "metadata": {},
   "outputs": [],
   "source": [
    "import numpy as np"
   ]
  },
  {
   "cell_type": "code",
   "execution_count": 4,
   "id": "sharp-technology",
   "metadata": {},
   "outputs": [],
   "source": [
    "import csv"
   ]
  },
  {
   "cell_type": "code",
   "execution_count": 5,
   "id": "subjective-finance",
   "metadata": {},
   "outputs": [
    {
     "name": "stdout",
     "output_type": "stream",
     "text": [
      "Column names are Y, X\n",
      "Processed 201 lines.\n"
     ]
    }
   ],
   "source": [
    "with open('Advertising.csv') as csv_file:\n",
    "    csv_reader = csv.reader(csv_file, delimiter=',')\n",
    "    line_count = 0\n",
    "    for row in csv_reader:\n",
    "        if line_count == 0:\n",
    "            print(f'Column names are {\", \".join(row)}')\n",
    "            line_count += 1\n",
    "        else:\n",
    "            line_count += 1\n",
    "            ##print(f'\\t{row[0]} works in the {row[1]} department')\n",
    "    print(f'Processed {line_count} lines.')"
   ]
  },
  {
   "cell_type": "code",
   "execution_count": 29,
   "id": "formal-theater",
   "metadata": {},
   "outputs": [],
   "source": [
    "class my_regression():\n",
    "    def __init__(self,x,y):\n",
    "        self.x = x\n",
    "        self.y = y\n",
    "    @classmethod \n",
    "    def from_file(cls, filename):\n",
    "        with open(filename) as csv_file:\n",
    "            csv_reader = csv.reader(csv_file, delimiter=',')\n",
    "            line_count = 0\n",
    "            x=[]\n",
    "            y=[]\n",
    "            for row in csv_reader:\n",
    "                if line_count == 0:\n",
    "                    print(f'Column names are {\", \".join(row)}')\n",
    "                    line_count += 1\n",
    "                else:\n",
    "                    line_count += 1\n",
    "                    valx=row[1]\n",
    "                    valy=row[0]\n",
    "                    x.append(float(valx))\n",
    "                    y.append(float(valy))\n",
    "            print(f'Processed {line_count} lines.')\n",
    "        return cls(x,y)\n",
    "        "
   ]
  },
  {
   "cell_type": "code",
   "execution_count": 30,
   "id": "european-symposium",
   "metadata": {},
   "outputs": [
    {
     "name": "stdout",
     "output_type": "stream",
     "text": [
      "Column names are Y, X\n",
      "Processed 201 lines.\n"
     ]
    }
   ],
   "source": [
    "kev = my_regression.from_file('Advertising.csv')"
   ]
  },
  {
   "cell_type": "code",
   "execution_count": 63,
   "id": "seeing-economy",
   "metadata": {},
   "outputs": [],
   "source": [
    "def beta_zero(xs, ys):\n",
    "    n=len(xs)\n",
    "    product = [a*b for a,b in zip(xs,ys)]\n",
    "    product_sum=sum(product)\n",
    "    t1 = n*product_sum\n",
    "    x_sum=sum(xs)\n",
    "    y_sum=sum(ys)\n",
    "    t2 = x_sum * y_sum\n",
    "    x_squared = [a**2 for a in xs]\n",
    "    x_squared_sum = sum(x_squared)\n",
    "    t3 = n*x_squared_sum\n",
    "    t4 = x_sum ** 2\n",
    "    result = (t1-t2)/(t3-t4)\n",
    "    print(result)"
   ]
  },
  {
   "cell_type": "code",
   "execution_count": 64,
   "id": "special-surge",
   "metadata": {},
   "outputs": [
    {
     "name": "stdout",
     "output_type": "stream",
     "text": [
      "0.04753664043301965\n"
     ]
    }
   ],
   "source": [
    "beta_zero(kev.x,kev.y)"
   ]
  },
  {
   "cell_type": "code",
   "execution_count": null,
   "id": "organized-religion",
   "metadata": {},
   "outputs": [],
   "source": []
  },
  {
   "cell_type": "code",
   "execution_count": null,
   "id": "separate-operator",
   "metadata": {},
   "outputs": [],
   "source": []
  }
 ],
 "metadata": {
  "kernelspec": {
   "display_name": "Python 3",
   "language": "python",
   "name": "python3"
  },
  "language_info": {
   "codemirror_mode": {
    "name": "ipython",
    "version": 3
   },
   "file_extension": ".py",
   "mimetype": "text/x-python",
   "name": "python",
   "nbconvert_exporter": "python",
   "pygments_lexer": "ipython3",
   "version": "3.9.1"
  }
 },
 "nbformat": 4,
 "nbformat_minor": 5
}
