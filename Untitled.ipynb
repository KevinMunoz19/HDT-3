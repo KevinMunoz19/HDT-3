{
 "cells": [
  {
   "cell_type": "code",
   "execution_count": 3,
   "id": "located-negative",
   "metadata": {},
   "outputs": [],
   "source": [
    "import numpy as np"
   ]
  },
  {
   "cell_type": "code",
   "execution_count": 4,
   "id": "dominican-poison",
   "metadata": {},
   "outputs": [],
   "source": [
    "import csv"
   ]
  },
  {
   "cell_type": "code",
   "execution_count": 30,
   "id": "about-rotation",
   "metadata": {},
   "outputs": [],
   "source": [
    "class my_regression():\n",
    "    def __init__(self,x,y,b0,b1):\n",
    "        self.x = x\n",
    "        self.y = y\n",
    "        self.beta0 = b0\n",
    "        self.beta1 = b1\n",
    "    def getAllParams(self):\n",
    "        r_squared, r_val = self.r()\n",
    "        print(\"All Params\")\n",
    "        allParamsDict = {\n",
    "            \"b0\": self.beta0,\n",
    "            \"b1\": self.beta1,\n",
    "            \"r2\": r_squared,\n",
    "            \"r\": r_val,\n",
    "        }\n",
    "        print(allParamsDict)\n",
    "    def predict(self,val):\n",
    "        predicted_val = self.beta0 + (self.beta1 * val)\n",
    "        print(predicted_val)\n",
    "    def predictN(self,vals):\n",
    "        predicted_vals = [self.beta1 + (self.beta0 * a) for a in vals]\n",
    "        return predicted_vals\n",
    "    def r2(self):\n",
    "        y_hat = self.predictN(self.x)\n",
    "        y_mean = (sum(self.y))/len(self.y)\n",
    "        #t1_list = [(yh-y_mean)**2 for yh in y_hat]\n",
    "        #t1 = sum(t1_list)\n",
    "        #t2_list = [(yh-yn)**2 for yh,yn in zip(y_hat,self.y)]\n",
    "        #t2 = sum(t2_list)\n",
    "        t1_list = [(yn-yh)**2 for yn,yh in zip(self.y,y_hat)]\n",
    "        t1 = sum(t1_list)\n",
    "        t2_list = [(yn-y_mean)**2 for yn in self.y]\n",
    "        t2 = sum(t2_list)\n",
    "        r_squared = 1-((t1)/(t2))\n",
    "        return r_squared\n",
    "    def r(self):\n",
    "        r_squared = self.r2()\n",
    "        r_val = r_squared**0.5\n",
    "        return r_squared, r_val\n",
    "    def beta_zero(x,y):\n",
    "        n=len(x)\n",
    "        product = [a*b for a,b in zip(x,y)]\n",
    "        product_sum=sum(product)\n",
    "        t1 = n*product_sum\n",
    "        x_sum=sum(x)\n",
    "        y_sum=sum(y)\n",
    "        t2 = x_sum * y_sum\n",
    "        x_squared = [a**2 for a in x]\n",
    "        x_squared_sum = sum(x_squared)\n",
    "        t3 = n*x_squared_sum\n",
    "        t4 = x_sum ** 2\n",
    "        beta_0 = (t1-t2)/(t3-t4)\n",
    "        return beta_0\n",
    "    def beta_one(x,y):\n",
    "        n=len(x)\n",
    "        product = [a*b for a,b in zip(x,y)]\n",
    "        product_sum=sum(product)\n",
    "        x_sum=sum(x)\n",
    "        y_sum=sum(y)\n",
    "        x_squared = [a**2 for a in x]\n",
    "        x_squared_sum = sum(x_squared)\n",
    "        t1 = x_squared_sum * y_sum\n",
    "        t2 = x_sum * product_sum\n",
    "        t3 = n * x_squared_sum\n",
    "        t4 = x_sum ** 2\n",
    "        beta_1 = (t1-t2)/(t3-t4)\n",
    "        return beta_1\n",
    "    @classmethod\n",
    "    def from_file(cls, filename):\n",
    "        with open(filename) as csv_file:\n",
    "            csv_reader = csv.reader(csv_file, delimiter=',')\n",
    "            line_count = 0\n",
    "            x=[]\n",
    "            y=[]\n",
    "            beta_0 = 0\n",
    "            beta_1 = 0\n",
    "            for row in csv_reader:\n",
    "                if line_count == 0:\n",
    "                    print(f'Column names are {\", \".join(row)}')\n",
    "                    line_count += 1\n",
    "                else:\n",
    "                    line_count += 1\n",
    "                    valx=row[1]\n",
    "                    valy=row[0]\n",
    "                    x.append(float(valx))\n",
    "                    y.append(float(valy))\n",
    "            print(f'Processed {line_count} lines.')\n",
    "            beta_0 = cls.beta_zero(x,y)\n",
    "            beta_1 = cls.beta_one(x,y)\n",
    "        return cls(x,y,beta_0,beta_1)\n",
    "    "
   ]
  },
  {
   "cell_type": "code",
   "execution_count": 31,
   "id": "fewer-blast",
   "metadata": {},
   "outputs": [
    {
     "name": "stdout",
     "output_type": "stream",
     "text": [
      "Column names are Y, X\n",
      "Processed 201 lines.\n"
     ]
    }
   ],
   "source": [
    "kev = my_regression.from_file('Advertising.csv')"
   ]
  },
  {
   "cell_type": "code",
   "execution_count": 32,
   "id": "wrapped-circus",
   "metadata": {},
   "outputs": [
    {
     "data": {
      "text/plain": [
       "0.04753664043301965"
      ]
     },
     "execution_count": 32,
     "metadata": {},
     "output_type": "execute_result"
    }
   ],
   "source": [
    "kev.beta0"
   ]
  },
  {
   "cell_type": "code",
   "execution_count": 33,
   "id": "going-investing",
   "metadata": {},
   "outputs": [
    {
     "data": {
      "text/plain": [
       "7.0325935491277205"
      ]
     },
     "execution_count": 33,
     "metadata": {},
     "output_type": "execute_result"
    }
   ],
   "source": [
    "kev.beta1"
   ]
  },
  {
   "cell_type": "code",
   "execution_count": 34,
   "id": "emerging-month",
   "metadata": {},
   "outputs": [
    {
     "name": "stdout",
     "output_type": "stream",
     "text": [
      "All Params\n",
      "{'b0': 0.04753664043301965, 'b1': 7.0325935491277205, 'r2': 0.6118750508500709, 'r': 0.7822244248616064}\n"
     ]
    }
   ],
   "source": [
    "kev.getAllParams()"
   ]
  },
  {
   "cell_type": "code",
   "execution_count": null,
   "id": "closing-canon",
   "metadata": {},
   "outputs": [],
   "source": []
  }
 ],
 "metadata": {
  "kernelspec": {
   "display_name": "Python 3",
   "language": "python",
   "name": "python3"
  },
  "language_info": {
   "codemirror_mode": {
    "name": "ipython",
    "version": 3
   },
   "file_extension": ".py",
   "mimetype": "text/x-python",
   "name": "python",
   "nbconvert_exporter": "python",
   "pygments_lexer": "ipython3",
   "version": "3.9.1"
  }
 },
 "nbformat": 4,
 "nbformat_minor": 5
}
